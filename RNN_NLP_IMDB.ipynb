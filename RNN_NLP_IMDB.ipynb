{
  "nbformat": 4,
  "nbformat_minor": 0,
  "metadata": {
    "colab": {
      "name": "Untitled35.ipynb",
      "provenance": []
    },
    "kernelspec": {
      "name": "python3",
      "display_name": "Python 3"
    },
    "language_info": {
      "name": "python"
    },
    "accelerator": "GPU"
  },
  "cells": [
    {
      "cell_type": "code",
      "execution_count": 1,
      "metadata": {
        "id": "DzbN86k2I2jT"
      },
      "outputs": [],
      "source": [
        "from keras.preprocessing import sequence\n",
        "from keras.models import Sequential\n",
        "from keras.layers import Dense, Embedding\n",
        "from keras.layers import LSTM\n",
        "from keras.datasets import imdb"
      ]
    },
    {
      "cell_type": "code",
      "source": [
        "(x_train, y_train), (x_test, y_test) = imdb.load_data(num_words=200)"
      ],
      "metadata": {
        "id": "7ds4HW2IJ4w2"
      },
      "execution_count": 2,
      "outputs": []
    },
    {
      "cell_type": "code",
      "source": [
        "x_train = sequence.pad_sequences(x_train, maxlen=20)\n",
        "x_test = sequence.pad_sequences(x_test, maxlen=20)"
      ],
      "metadata": {
        "id": "s2vHl0LoKCDT"
      },
      "execution_count": 3,
      "outputs": []
    },
    {
      "cell_type": "code",
      "source": [
        "model = Sequential()\n",
        "model.add(Embedding(200, 20))\n",
        "model.add(LSTM(20, dropout=0.2, recurrent_dropout=0.2))\n",
        "model.add(Dense(1, activation='sigmoid'))"
      ],
      "metadata": {
        "colab": {
          "base_uri": "https://localhost:8080/"
        },
        "id": "WbZRDoZ3KHVh",
        "outputId": "b18d87af-eb20-49c4-ee4c-ede74d5a004e"
      },
      "execution_count": 4,
      "outputs": [
        {
          "output_type": "stream",
          "name": "stdout",
          "text": [
            "WARNING:tensorflow:Layer lstm will not use cuDNN kernels since it doesn't meet the criteria. It will use a generic GPU kernel as fallback when running on GPU.\n"
          ]
        }
      ]
    },
    {
      "cell_type": "code",
      "source": [
        "model.compile(loss='binary_crossentropy',\n",
        " optimizer='adam',\n",
        " metrics=['accuracy'])"
      ],
      "metadata": {
        "id": "cbM5SqSEKOKO"
      },
      "execution_count": 5,
      "outputs": []
    },
    {
      "cell_type": "code",
      "source": [
        "model.fit(x_train, y_train,\n",
        " batch_size=32,\n",
        " epochs=10,\n",
        " validation_data=(x_test, y_test))\n"
      ],
      "metadata": {
        "colab": {
          "base_uri": "https://localhost:8080/"
        },
        "id": "9MNJlXD2KZD8",
        "outputId": "90681863-a81a-449c-f8bb-014c32958b39"
      },
      "execution_count": 6,
      "outputs": [
        {
          "output_type": "stream",
          "name": "stdout",
          "text": [
            "Epoch 1/10\n",
            "782/782 [==============================] - 142s 178ms/step - loss: 0.6456 - accuracy: 0.6192 - val_loss: 0.6255 - val_accuracy: 0.6431\n",
            "Epoch 2/10\n",
            "782/782 [==============================] - 140s 179ms/step - loss: 0.6247 - accuracy: 0.6471 - val_loss: 0.6228 - val_accuracy: 0.6465\n",
            "Epoch 3/10\n",
            "782/782 [==============================] - 141s 181ms/step - loss: 0.6216 - accuracy: 0.6462 - val_loss: 0.6196 - val_accuracy: 0.6478\n",
            "Epoch 4/10\n",
            "782/782 [==============================] - 142s 182ms/step - loss: 0.6168 - accuracy: 0.6544 - val_loss: 0.6182 - val_accuracy: 0.6463\n",
            "Epoch 5/10\n",
            "782/782 [==============================] - 138s 177ms/step - loss: 0.6135 - accuracy: 0.6553 - val_loss: 0.6181 - val_accuracy: 0.6479\n",
            "Epoch 6/10\n",
            "782/782 [==============================] - 142s 182ms/step - loss: 0.6123 - accuracy: 0.6519 - val_loss: 0.6196 - val_accuracy: 0.6461\n",
            "Epoch 7/10\n",
            "782/782 [==============================] - 139s 178ms/step - loss: 0.6084 - accuracy: 0.6594 - val_loss: 0.6187 - val_accuracy: 0.6449\n",
            "Epoch 8/10\n",
            "782/782 [==============================] - 139s 178ms/step - loss: 0.6054 - accuracy: 0.6643 - val_loss: 0.6295 - val_accuracy: 0.6426\n",
            "Epoch 9/10\n",
            "782/782 [==============================] - 135s 172ms/step - loss: 0.6061 - accuracy: 0.6640 - val_loss: 0.6150 - val_accuracy: 0.6528\n",
            "Epoch 10/10\n",
            "782/782 [==============================] - 135s 172ms/step - loss: 0.6039 - accuracy: 0.6634 - val_loss: 0.6138 - val_accuracy: 0.6526\n"
          ]
        },
        {
          "output_type": "execute_result",
          "data": {
            "text/plain": [
              "<keras.callbacks.History at 0x7fce7dc4e290>"
            ]
          },
          "metadata": {},
          "execution_count": 6
        }
      ]
    },
    {
      "cell_type": "code",
      "source": [
        "score, acc = model.evaluate(x_test, y_test,\n",
        " batch_size=32)\n",
        "print('Test score:', score)\n",
        "print('Test accuracy:', acc)"
      ],
      "metadata": {
        "colab": {
          "base_uri": "https://localhost:8080/"
        },
        "id": "VH0aYyW-Kc8m",
        "outputId": "d0261536-2a30-46e4-92c5-edc645b5deef"
      },
      "execution_count": 7,
      "outputs": [
        {
          "output_type": "stream",
          "name": "stdout",
          "text": [
            "782/782 [==============================] - 9s 11ms/step - loss: 0.6138 - accuracy: 0.6526\n",
            "Test score: 0.6137511730194092\n",
            "Test accuracy: 0.6525599956512451\n"
          ]
        }
      ]
    }
  ]
}